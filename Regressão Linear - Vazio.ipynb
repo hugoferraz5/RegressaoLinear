{
 "cells": [
  {
   "cell_type": "markdown",
   "metadata": {},
   "source": [
    "# Regressão Linear"
   ]
  },
  {
   "cell_type": "markdown",
   "metadata": {},
   "source": [
    "### Importar pandas e matplotlib"
   ]
  },
  {
   "cell_type": "code",
   "execution_count": 1,
   "metadata": {
    "ExecuteTime": {
     "end_time": "2022-03-17T15:16:49.173901Z",
     "start_time": "2022-03-17T15:16:40.316776Z"
    }
   },
   "outputs": [],
   "source": [
    "import pandas as pd"
   ]
  },
  {
   "cell_type": "code",
   "execution_count": 2,
   "metadata": {
    "ExecuteTime": {
     "end_time": "2022-03-17T15:17:01.711305Z",
     "start_time": "2022-03-17T15:16:57.966951Z"
    }
   },
   "outputs": [],
   "source": [
    "import matplotlib.pyplot as plt"
   ]
  },
  {
   "cell_type": "markdown",
   "metadata": {},
   "source": [
    "### Criar um Data Frame de faturamento mensal de 12 meses"
   ]
  },
  {
   "cell_type": "code",
   "execution_count": 3,
   "metadata": {
    "ExecuteTime": {
     "end_time": "2022-03-17T15:17:54.126122Z",
     "start_time": "2022-03-17T15:17:54.107143Z"
    }
   },
   "outputs": [],
   "source": [
    "faturamento = [25,38,29,115,82,114,120,160,153,190,239,175]"
   ]
  },
  {
   "cell_type": "code",
   "execution_count": 6,
   "metadata": {
    "ExecuteTime": {
     "end_time": "2022-03-17T15:18:26.012188Z",
     "start_time": "2022-03-17T15:18:26.001197Z"
    }
   },
   "outputs": [],
   "source": [
    "mes = list(range(1,13))"
   ]
  },
  {
   "cell_type": "code",
   "execution_count": 7,
   "metadata": {
    "ExecuteTime": {
     "end_time": "2022-03-17T15:19:58.579715Z",
     "start_time": "2022-03-17T15:19:58.551728Z"
    }
   },
   "outputs": [],
   "source": [
    "data_dict = {'mes': mes, 'faturamento': faturamento}"
   ]
  },
  {
   "cell_type": "code",
   "execution_count": 9,
   "metadata": {
    "ExecuteTime": {
     "end_time": "2022-03-17T15:21:29.841693Z",
     "start_time": "2022-03-17T15:21:29.830698Z"
    }
   },
   "outputs": [],
   "source": [
    "data = pd.DataFrame.from_dict(data_dict)"
   ]
  },
  {
   "cell_type": "code",
   "execution_count": 10,
   "metadata": {
    "ExecuteTime": {
     "end_time": "2022-03-17T15:21:35.111805Z",
     "start_time": "2022-03-17T15:21:35.068835Z"
    }
   },
   "outputs": [
    {
     "data": {
      "text/html": [
       "<div>\n",
       "<style scoped>\n",
       "    .dataframe tbody tr th:only-of-type {\n",
       "        vertical-align: middle;\n",
       "    }\n",
       "\n",
       "    .dataframe tbody tr th {\n",
       "        vertical-align: top;\n",
       "    }\n",
       "\n",
       "    .dataframe thead th {\n",
       "        text-align: right;\n",
       "    }\n",
       "</style>\n",
       "<table border=\"1\" class=\"dataframe\">\n",
       "  <thead>\n",
       "    <tr style=\"text-align: right;\">\n",
       "      <th></th>\n",
       "      <th>mes</th>\n",
       "      <th>faturamento</th>\n",
       "    </tr>\n",
       "  </thead>\n",
       "  <tbody>\n",
       "    <tr>\n",
       "      <th>0</th>\n",
       "      <td>1</td>\n",
       "      <td>25</td>\n",
       "    </tr>\n",
       "    <tr>\n",
       "      <th>1</th>\n",
       "      <td>2</td>\n",
       "      <td>38</td>\n",
       "    </tr>\n",
       "    <tr>\n",
       "      <th>2</th>\n",
       "      <td>3</td>\n",
       "      <td>29</td>\n",
       "    </tr>\n",
       "    <tr>\n",
       "      <th>3</th>\n",
       "      <td>4</td>\n",
       "      <td>115</td>\n",
       "    </tr>\n",
       "    <tr>\n",
       "      <th>4</th>\n",
       "      <td>5</td>\n",
       "      <td>82</td>\n",
       "    </tr>\n",
       "    <tr>\n",
       "      <th>5</th>\n",
       "      <td>6</td>\n",
       "      <td>114</td>\n",
       "    </tr>\n",
       "    <tr>\n",
       "      <th>6</th>\n",
       "      <td>7</td>\n",
       "      <td>120</td>\n",
       "    </tr>\n",
       "    <tr>\n",
       "      <th>7</th>\n",
       "      <td>8</td>\n",
       "      <td>160</td>\n",
       "    </tr>\n",
       "    <tr>\n",
       "      <th>8</th>\n",
       "      <td>9</td>\n",
       "      <td>153</td>\n",
       "    </tr>\n",
       "    <tr>\n",
       "      <th>9</th>\n",
       "      <td>10</td>\n",
       "      <td>190</td>\n",
       "    </tr>\n",
       "    <tr>\n",
       "      <th>10</th>\n",
       "      <td>11</td>\n",
       "      <td>239</td>\n",
       "    </tr>\n",
       "    <tr>\n",
       "      <th>11</th>\n",
       "      <td>12</td>\n",
       "      <td>175</td>\n",
       "    </tr>\n",
       "  </tbody>\n",
       "</table>\n",
       "</div>"
      ],
      "text/plain": [
       "    mes  faturamento\n",
       "0     1           25\n",
       "1     2           38\n",
       "2     3           29\n",
       "3     4          115\n",
       "4     5           82\n",
       "5     6          114\n",
       "6     7          120\n",
       "7     8          160\n",
       "8     9          153\n",
       "9    10          190\n",
       "10   11          239\n",
       "11   12          175"
      ]
     },
     "execution_count": 10,
     "metadata": {},
     "output_type": "execute_result"
    }
   ],
   "source": [
    "data"
   ]
  },
  {
   "cell_type": "markdown",
   "metadata": {},
   "source": [
    "### Visualizar dados em Gráfico de Dispersão"
   ]
  },
  {
   "cell_type": "code",
   "execution_count": 11,
   "metadata": {
    "ExecuteTime": {
     "end_time": "2022-03-17T17:13:48.964000Z",
     "start_time": "2022-03-17T17:13:48.910836Z"
    }
   },
   "outputs": [],
   "source": [
    "x = data['mes']\n",
    "y = data['faturamento']"
   ]
  },
  {
   "cell_type": "code",
   "execution_count": 12,
   "metadata": {
    "ExecuteTime": {
     "end_time": "2022-03-17T17:13:58.963569Z",
     "start_time": "2022-03-17T17:13:57.787780Z"
    }
   },
   "outputs": [
    {
     "data": {
      "text/plain": [
       "<matplotlib.collections.PathCollection at 0x2116a4e68e0>"
      ]
     },
     "execution_count": 12,
     "metadata": {},
     "output_type": "execute_result"
    },
    {
     "data": {
      "image/png": "[encoded data removed]",
      "text/plain": [
       "<Figure size 432x288 with 1 Axes>"
      ]
     },
     "metadata": {
      "needs_background": "light"
     },
     "output_type": "display_data"
    }
   ],
   "source": [
    "plt.scatter(x,y)"
   ]
  },
  {
   "cell_type": "code",
   "execution_count": 13,
   "metadata": {
    "ExecuteTime": {
     "end_time": "2022-03-17T17:14:31.875596Z",
     "start_time": "2022-03-17T17:14:31.836617Z"
    }
   },
   "outputs": [
    {
     "data": {
      "text/html": [
       "<div>\n",
       "<style scoped>\n",
       "    .dataframe tbody tr th:only-of-type {\n",
       "        vertical-align: middle;\n",
       "    }\n",
       "\n",
       "    .dataframe tbody tr th {\n",
       "        vertical-align: top;\n",
       "    }\n",
       "\n",
       "    .dataframe thead th {\n",
       "        text-align: right;\n",
       "    }\n",
       "</style>\n",
       "<table border=\"1\" class=\"dataframe\">\n",
       "  <thead>\n",
       "    <tr style=\"text-align: right;\">\n",
       "      <th></th>\n",
       "      <th>mes</th>\n",
       "      <th>faturamento</th>\n",
       "    </tr>\n",
       "  </thead>\n",
       "  <tbody>\n",
       "    <tr>\n",
       "      <th>mes</th>\n",
       "      <td>1.000000</td>\n",
       "      <td>0.935045</td>\n",
       "    </tr>\n",
       "    <tr>\n",
       "      <th>faturamento</th>\n",
       "      <td>0.935045</td>\n",
       "      <td>1.000000</td>\n",
       "    </tr>\n",
       "  </tbody>\n",
       "</table>\n",
       "</div>"
      ],
      "text/plain": [
       "                  mes  faturamento\n",
       "mes          1.000000     0.935045\n",
       "faturamento  0.935045     1.000000"
      ]
     },
     "execution_count": 13,
     "metadata": {},
     "output_type": "execute_result"
    }
   ],
   "source": [
    "data[['mes', 'faturamento']].corr()"
   ]
  },
  {
   "cell_type": "markdown",
   "metadata": {},
   "source": [
    "## Criar Modelo Preditivo aplicando fórmulas (manualmente)"
   ]
  },
  {
   "cell_type": "markdown",
   "metadata": {},
   "source": [
    "<center><strong>Equação da Regressão Linear</strong></center><br>\n",
    "Essa é a equação para desenhar uma reta. Mas quando usamos essa equação para criar uma Regressão Linear especificamente, colocamos o acento circunflexo no $\\hat{y}$.\n",
    "\n",
    "$$\\hat{y} = mx + b$$\n",
    "\n",
    "<strong>m</strong> = inclinação da linha<br>\n",
    "<strong>b</strong> = interceptação do y<br>\n",
    "<strong>(x,y)</strong> = pontos coordenados<br>\n",
    "\n",
    "$$m = \\frac {n\\sum {xy}-\\sum x \\sum y}{n\\sum x^2-(\\sum x)^2}$$<br>\n",
    "\n",
    "$$b = \\frac {\\sum y-m\\sum x}{n}$$"
   ]
  },
  {
   "cell_type": "markdown",
   "metadata": {},
   "source": [
    "# m"
   ]
  },
  {
   "cell_type": "code",
   "execution_count": 14,
   "metadata": {
    "ExecuteTime": {
     "end_time": "2022-03-17T17:21:17.420122Z",
     "start_time": "2022-03-17T17:21:17.405127Z"
    }
   },
   "outputs": [
    {
     "data": {
      "text/plain": [
       "78"
      ]
     },
     "execution_count": 14,
     "metadata": {},
     "output_type": "execute_result"
    }
   ],
   "source": [
    "x.sum()"
   ]
  },
  {
   "cell_type": "code",
   "execution_count": 15,
   "metadata": {
    "ExecuteTime": {
     "end_time": "2022-03-17T17:21:21.508565Z",
     "start_time": "2022-03-17T17:21:21.486935Z"
    }
   },
   "outputs": [
    {
     "data": {
      "text/plain": [
       "1440"
      ]
     },
     "execution_count": 15,
     "metadata": {},
     "output_type": "execute_result"
    }
   ],
   "source": [
    "y.sum()"
   ]
  },
  {
   "cell_type": "code",
   "execution_count": 16,
   "metadata": {
    "ExecuteTime": {
     "end_time": "2022-03-17T17:21:44.329036Z",
     "start_time": "2022-03-17T17:21:44.089173Z"
    }
   },
   "outputs": [
    {
     "data": {
      "text/plain": [
       "0       25\n",
       "1       76\n",
       "2       87\n",
       "3      460\n",
       "4      410\n",
       "5      684\n",
       "6      840\n",
       "7     1280\n",
       "8     1377\n",
       "9     1900\n",
       "10    2629\n",
       "11    2100\n",
       "dtype: int64"
      ]
     },
     "execution_count": 16,
     "metadata": {},
     "output_type": "execute_result"
    }
   ],
   "source": [
    "x*y"
   ]
  },
  {
   "cell_type": "code",
   "execution_count": 17,
   "metadata": {
    "ExecuteTime": {
     "end_time": "2022-03-17T17:21:50.160508Z",
     "start_time": "2022-03-17T17:21:50.146513Z"
    }
   },
   "outputs": [
    {
     "data": {
      "text/plain": [
       "0       1\n",
       "1       4\n",
       "2       9\n",
       "3      16\n",
       "4      25\n",
       "5      36\n",
       "6      49\n",
       "7      64\n",
       "8      81\n",
       "9     100\n",
       "10    121\n",
       "11    144\n",
       "Name: mes, dtype: int64"
      ]
     },
     "execution_count": 17,
     "metadata": {},
     "output_type": "execute_result"
    }
   ],
   "source": [
    "x**2"
   ]
  },
  {
   "cell_type": "code",
   "execution_count": 18,
   "metadata": {
    "ExecuteTime": {
     "end_time": "2022-03-17T17:22:12.274192Z",
     "start_time": "2022-03-17T17:22:12.250400Z"
    }
   },
   "outputs": [
    {
     "data": {
      "text/plain": [
       "11868"
      ]
     },
     "execution_count": 18,
     "metadata": {},
     "output_type": "execute_result"
    }
   ],
   "source": [
    "(x*y).sum()"
   ]
  },
  {
   "cell_type": "code",
   "execution_count": 19,
   "metadata": {
    "ExecuteTime": {
     "end_time": "2022-03-17T17:22:22.414061Z",
     "start_time": "2022-03-17T17:22:22.401067Z"
    }
   },
   "outputs": [
    {
     "data": {
      "text/plain": [
       "650"
      ]
     },
     "execution_count": 19,
     "metadata": {},
     "output_type": "execute_result"
    }
   ],
   "source": [
    "(x**2).sum()"
   ]
  },
  {
   "cell_type": "code",
   "execution_count": 21,
   "metadata": {
    "ExecuteTime": {
     "end_time": "2022-03-17T17:22:30.690595Z",
     "start_time": "2022-03-17T17:22:30.666264Z"
    }
   },
   "outputs": [
    {
     "data": {
      "text/plain": [
       "12"
      ]
     },
     "execution_count": 21,
     "metadata": {},
     "output_type": "execute_result"
    }
   ],
   "source": [
    "len(y)"
   ]
  },
  {
   "cell_type": "code",
   "execution_count": 23,
   "metadata": {
    "ExecuteTime": {
     "end_time": "2022-03-17T17:23:04.765876Z",
     "start_time": "2022-03-17T17:23:04.750865Z"
    }
   },
   "outputs": [
    {
     "data": {
      "text/plain": [
       "6084"
      ]
     },
     "execution_count": 23,
     "metadata": {},
     "output_type": "execute_result"
    }
   ],
   "source": [
    "(x.sum())**2"
   ]
  },
  {
   "cell_type": "markdown",
   "metadata": {},
   "source": [
    "$$m = \\frac {n\\sum {xy}-\\sum x \\sum y}{n\\sum x^2-(\\sum x)^2}$$<br>"
   ]
  },
  {
   "cell_type": "code",
   "execution_count": 26,
   "metadata": {
    "ExecuteTime": {
     "end_time": "2022-03-17T17:34:34.518689Z",
     "start_time": "2022-03-17T17:34:34.487710Z"
    }
   },
   "outputs": [],
   "source": [
    "m = (len(y) * (x*y).sum() - x.sum()*y.sum())/(len(y) * (x**2).sum() - (x.sum())**2)"
   ]
  },
  {
   "cell_type": "code",
   "execution_count": 28,
   "metadata": {
    "ExecuteTime": {
     "end_time": "2022-03-17T17:34:55.942601Z",
     "start_time": "2022-03-17T17:34:55.931609Z"
    }
   },
   "outputs": [
    {
     "data": {
      "text/plain": [
       "17.5385"
      ]
     },
     "execution_count": 28,
     "metadata": {},
     "output_type": "execute_result"
    }
   ],
   "source": [
    "m.round(4)"
   ]
  },
  {
   "cell_type": "markdown",
   "metadata": {},
   "source": [
    "# b"
   ]
  },
  {
   "cell_type": "markdown",
   "metadata": {},
   "source": [
    "$$b = \\frac {\\sum y-m\\sum x}{n}$$"
   ]
  },
  {
   "cell_type": "code",
   "execution_count": 30,
   "metadata": {
    "ExecuteTime": {
     "end_time": "2022-03-17T17:36:45.748519Z",
     "start_time": "2022-03-17T17:36:45.736522Z"
    }
   },
   "outputs": [],
   "source": [
    "b = (y.sum() - m * x.sum())/len(y)"
   ]
  },
  {
   "cell_type": "code",
   "execution_count": 31,
   "metadata": {
    "ExecuteTime": {
     "end_time": "2022-03-17T17:36:49.845281Z",
     "start_time": "2022-03-17T17:36:49.829291Z"
    }
   },
   "outputs": [
    {
     "data": {
      "text/plain": [
       "6.0"
      ]
     },
     "execution_count": 31,
     "metadata": {},
     "output_type": "execute_result"
    }
   ],
   "source": [
    "b.round()"
   ]
  },
  {
   "cell_type": "markdown",
   "metadata": {},
   "source": [
    "### Modelo Preditivo\n",
    "Criar modelo preditivo para prever (ou estimar) o rendimento de qualquer mês"
   ]
  },
  {
   "cell_type": "markdown",
   "metadata": {},
   "source": [
    "$$\\hat{y} = mx + b$$"
   ]
  },
  {
   "cell_type": "code",
   "execution_count": 32,
   "metadata": {
    "ExecuteTime": {
     "end_time": "2022-03-17T17:40:07.897996Z",
     "start_time": "2022-03-17T17:40:07.880987Z"
    }
   },
   "outputs": [],
   "source": [
    "xpred = 24"
   ]
  },
  {
   "cell_type": "code",
   "execution_count": 33,
   "metadata": {
    "ExecuteTime": {
     "end_time": "2022-03-17T17:40:17.978685Z",
     "start_time": "2022-03-17T17:40:17.972691Z"
    }
   },
   "outputs": [],
   "source": [
    "ypred = m*xpred + b"
   ]
  },
  {
   "cell_type": "code",
   "execution_count": 35,
   "metadata": {
    "ExecuteTime": {
     "end_time": "2022-03-17T17:40:34.331666Z",
     "start_time": "2022-03-17T17:40:34.312678Z"
    }
   },
   "outputs": [
    {
     "data": {
      "text/plain": [
       "426.92307692307696"
      ]
     },
     "execution_count": 35,
     "metadata": {},
     "output_type": "execute_result"
    }
   ],
   "source": [
    "ypred # faturamento no mês 24"
   ]
  },
  {
   "cell_type": "markdown",
   "metadata": {},
   "source": [
    "### Predições para os 12 meses\n",
    "Criar uma lista contendo as predições para cada um dos 12 meses"
   ]
  },
  {
   "cell_type": "code",
   "execution_count": 36,
   "metadata": {
    "ExecuteTime": {
     "end_time": "2022-03-17T17:50:43.697583Z",
     "start_time": "2022-03-17T17:50:43.680595Z"
    }
   },
   "outputs": [],
   "source": [
    "pred_manual = []\n",
    "for elemento in x:\n",
    "    ypred = m*elemento+b\n",
    "    pred_manual.append(ypred)"
   ]
  },
  {
   "cell_type": "code",
   "execution_count": 37,
   "metadata": {
    "ExecuteTime": {
     "end_time": "2022-03-17T17:50:49.360054Z",
     "start_time": "2022-03-17T17:50:49.344042Z"
    }
   },
   "outputs": [
    {
     "data": {
      "text/plain": [
       "[23.538461538461522,\n",
       " 41.07692307692306,\n",
       " 58.6153846153846,\n",
       " 76.15384615384615,\n",
       " 93.6923076923077,\n",
       " 111.23076923076923,\n",
       " 128.76923076923075,\n",
       " 146.3076923076923,\n",
       " 163.84615384615384,\n",
       " 181.3846153846154,\n",
       " 198.9230769230769,\n",
       " 216.46153846153845]"
      ]
     },
     "execution_count": 37,
     "metadata": {},
     "output_type": "execute_result"
    }
   ],
   "source": [
    "pred_manual"
   ]
  },
  {
   "cell_type": "markdown",
   "metadata": {},
   "source": [
    "## Inserir predições no DataFrame"
   ]
  },
  {
   "cell_type": "code",
   "execution_count": 40,
   "metadata": {
    "ExecuteTime": {
     "end_time": "2022-03-17T17:56:38.428870Z",
     "start_time": "2022-03-17T17:56:38.409518Z"
    }
   },
   "outputs": [],
   "source": [
    "data['predições'] = pred_manual"
   ]
  },
  {
   "cell_type": "code",
   "execution_count": 41,
   "metadata": {
    "ExecuteTime": {
     "end_time": "2022-03-17T17:56:44.379384Z",
     "start_time": "2022-03-17T17:56:44.360395Z"
    }
   },
   "outputs": [
    {
     "data": {
      "text/html": [
       "<div>\n",
       "<style scoped>\n",
       "    .dataframe tbody tr th:only-of-type {\n",
       "        vertical-align: middle;\n",
       "    }\n",
       "\n",
       "    .dataframe tbody tr th {\n",
       "        vertical-align: top;\n",
       "    }\n",
       "\n",
       "    .dataframe thead th {\n",
       "        text-align: right;\n",
       "    }\n",
       "</style>\n",
       "<table border=\"1\" class=\"dataframe\">\n",
       "  <thead>\n",
       "    <tr style=\"text-align: right;\">\n",
       "      <th></th>\n",
       "      <th>mes</th>\n",
       "      <th>faturamento</th>\n",
       "      <th>predições</th>\n",
       "    </tr>\n",
       "  </thead>\n",
       "  <tbody>\n",
       "    <tr>\n",
       "      <th>0</th>\n",
       "      <td>1</td>\n",
       "      <td>25</td>\n",
       "      <td>23.538462</td>\n",
       "    </tr>\n",
       "    <tr>\n",
       "      <th>1</th>\n",
       "      <td>2</td>\n",
       "      <td>38</td>\n",
       "      <td>41.076923</td>\n",
       "    </tr>\n",
       "    <tr>\n",
       "      <th>2</th>\n",
       "      <td>3</td>\n",
       "      <td>29</td>\n",
       "      <td>58.615385</td>\n",
       "    </tr>\n",
       "    <tr>\n",
       "      <th>3</th>\n",
       "      <td>4</td>\n",
       "      <td>115</td>\n",
       "      <td>76.153846</td>\n",
       "    </tr>\n",
       "    <tr>\n",
       "      <th>4</th>\n",
       "      <td>5</td>\n",
       "      <td>82</td>\n",
       "      <td>93.692308</td>\n",
       "    </tr>\n",
       "    <tr>\n",
       "      <th>5</th>\n",
       "      <td>6</td>\n",
       "      <td>114</td>\n",
       "      <td>111.230769</td>\n",
       "    </tr>\n",
       "    <tr>\n",
       "      <th>6</th>\n",
       "      <td>7</td>\n",
       "      <td>120</td>\n",
       "      <td>128.769231</td>\n",
       "    </tr>\n",
       "    <tr>\n",
       "      <th>7</th>\n",
       "      <td>8</td>\n",
       "      <td>160</td>\n",
       "      <td>146.307692</td>\n",
       "    </tr>\n",
       "    <tr>\n",
       "      <th>8</th>\n",
       "      <td>9</td>\n",
       "      <td>153</td>\n",
       "      <td>163.846154</td>\n",
       "    </tr>\n",
       "    <tr>\n",
       "      <th>9</th>\n",
       "      <td>10</td>\n",
       "      <td>190</td>\n",
       "      <td>181.384615</td>\n",
       "    </tr>\n",
       "    <tr>\n",
       "      <th>10</th>\n",
       "      <td>11</td>\n",
       "      <td>239</td>\n",
       "      <td>198.923077</td>\n",
       "    </tr>\n",
       "    <tr>\n",
       "      <th>11</th>\n",
       "      <td>12</td>\n",
       "      <td>175</td>\n",
       "      <td>216.461538</td>\n",
       "    </tr>\n",
       "  </tbody>\n",
       "</table>\n",
       "</div>"
      ],
      "text/plain": [
       "    mes  faturamento   predições\n",
       "0     1           25   23.538462\n",
       "1     2           38   41.076923\n",
       "2     3           29   58.615385\n",
       "3     4          115   76.153846\n",
       "4     5           82   93.692308\n",
       "5     6          114  111.230769\n",
       "6     7          120  128.769231\n",
       "7     8          160  146.307692\n",
       "8     9          153  163.846154\n",
       "9    10          190  181.384615\n",
       "10   11          239  198.923077\n",
       "11   12          175  216.461538"
      ]
     },
     "execution_count": 41,
     "metadata": {},
     "output_type": "execute_result"
    }
   ],
   "source": [
    "data"
   ]
  },
  {
   "cell_type": "markdown",
   "metadata": {},
   "source": [
    "### Visualizar Regressão Linear"
   ]
  },
  {
   "cell_type": "code",
   "execution_count": 43,
   "metadata": {
    "ExecuteTime": {
     "end_time": "2022-03-17T17:59:59.665455Z",
     "start_time": "2022-03-17T17:59:59.390040Z"
    }
   },
   "outputs": [
    {
     "data": {
      "text/plain": [
       "[<matplotlib.lines.Line2D at 0x2116a8e3820>]"
      ]
     },
     "execution_count": 43,
     "metadata": {},
     "output_type": "execute_result"
    },
    {
     "data": {
      "image/png": "[encoded data removed]",
      "text/plain": [
       "<Figure size 432x288 with 1 Axes>"
      ]
     },
     "metadata": {
      "needs_background": "light"
     },
     "output_type": "display_data"
    }
   ],
   "source": [
    "plt.scatter(x,y)\n",
    "plt.plot(x,data['predições'],color='red')"
   ]
  },
  {
   "cell_type": "markdown",
   "metadata": {},
   "source": [
    "# Coeficiente de Determinação - R-quadrado ($R²$)"
   ]
  },
  {
   "cell_type": "markdown",
   "metadata": {},
   "source": [
    "$$R^2 = 1 - \\frac {SQ_{res}} {SQ_{tot}} = 1 - \\frac {\\sum (y_i - \\hat{y}_i)^2}{\\sum (y_i - \\overline y)^2} $$"
   ]
  },
  {
   "cell_type": "markdown",
   "metadata": {},
   "source": [
    "### Calcular Soma Quadrática dos Resíduos (SQres)"
   ]
  },
  {
   "cell_type": "code",
   "execution_count": 44,
   "metadata": {
    "ExecuteTime": {
     "end_time": "2022-03-17T18:22:51.479330Z",
     "start_time": "2022-03-17T18:22:51.455448Z"
    }
   },
   "outputs": [
    {
     "data": {
      "text/plain": [
       "0      23.538462\n",
       "1      41.076923\n",
       "2      58.615385\n",
       "3      76.153846\n",
       "4      93.692308\n",
       "5     111.230769\n",
       "6     128.769231\n",
       "7     146.307692\n",
       "8     163.846154\n",
       "9     181.384615\n",
       "10    198.923077\n",
       "11    216.461538\n",
       "Name: predições, dtype: float64"
      ]
     },
     "execution_count": 44,
     "metadata": {},
     "output_type": "execute_result"
    }
   ],
   "source": [
    "data['predições']"
   ]
  },
  {
   "cell_type": "code",
   "execution_count": 45,
   "metadata": {
    "ExecuteTime": {
     "end_time": "2022-03-17T18:22:58.820374Z",
     "start_time": "2022-03-17T18:22:58.801365Z"
    }
   },
   "outputs": [
    {
     "data": {
      "text/plain": [
       "0      25\n",
       "1      38\n",
       "2      29\n",
       "3     115\n",
       "4      82\n",
       "5     114\n",
       "6     120\n",
       "7     160\n",
       "8     153\n",
       "9     190\n",
       "10    239\n",
       "11    175\n",
       "Name: faturamento, dtype: int64"
      ]
     },
     "execution_count": 45,
     "metadata": {},
     "output_type": "execute_result"
    }
   ],
   "source": [
    "data['faturamento']"
   ]
  },
  {
   "cell_type": "code",
   "execution_count": 48,
   "metadata": {
    "ExecuteTime": {
     "end_time": "2022-03-17T18:25:43.590728Z",
     "start_time": "2022-03-17T18:25:43.585605Z"
    }
   },
   "outputs": [],
   "source": [
    "data['residuos'] = y-pred_manual"
   ]
  },
  {
   "cell_type": "code",
   "execution_count": 49,
   "metadata": {
    "ExecuteTime": {
     "end_time": "2022-03-17T18:25:45.493557Z",
     "start_time": "2022-03-17T18:25:45.468614Z"
    }
   },
   "outputs": [
    {
     "data": {
      "text/html": [
       "<div>\n",
       "<style scoped>\n",
       "    .dataframe tbody tr th:only-of-type {\n",
       "        vertical-align: middle;\n",
       "    }\n",
       "\n",
       "    .dataframe tbody tr th {\n",
       "        vertical-align: top;\n",
       "    }\n",
       "\n",
       "    .dataframe thead th {\n",
       "        text-align: right;\n",
       "    }\n",
       "</style>\n",
       "<table border=\"1\" class=\"dataframe\">\n",
       "  <thead>\n",
       "    <tr style=\"text-align: right;\">\n",
       "      <th></th>\n",
       "      <th>mes</th>\n",
       "      <th>faturamento</th>\n",
       "      <th>predições</th>\n",
       "      <th>residuos</th>\n",
       "    </tr>\n",
       "  </thead>\n",
       "  <tbody>\n",
       "    <tr>\n",
       "      <th>0</th>\n",
       "      <td>1</td>\n",
       "      <td>25</td>\n",
       "      <td>23.538462</td>\n",
       "      <td>1.461538</td>\n",
       "    </tr>\n",
       "    <tr>\n",
       "      <th>1</th>\n",
       "      <td>2</td>\n",
       "      <td>38</td>\n",
       "      <td>41.076923</td>\n",
       "      <td>-3.076923</td>\n",
       "    </tr>\n",
       "    <tr>\n",
       "      <th>2</th>\n",
       "      <td>3</td>\n",
       "      <td>29</td>\n",
       "      <td>58.615385</td>\n",
       "      <td>-29.615385</td>\n",
       "    </tr>\n",
       "    <tr>\n",
       "      <th>3</th>\n",
       "      <td>4</td>\n",
       "      <td>115</td>\n",
       "      <td>76.153846</td>\n",
       "      <td>38.846154</td>\n",
       "    </tr>\n",
       "    <tr>\n",
       "      <th>4</th>\n",
       "      <td>5</td>\n",
       "      <td>82</td>\n",
       "      <td>93.692308</td>\n",
       "      <td>-11.692308</td>\n",
       "    </tr>\n",
       "    <tr>\n",
       "      <th>5</th>\n",
       "      <td>6</td>\n",
       "      <td>114</td>\n",
       "      <td>111.230769</td>\n",
       "      <td>2.769231</td>\n",
       "    </tr>\n",
       "    <tr>\n",
       "      <th>6</th>\n",
       "      <td>7</td>\n",
       "      <td>120</td>\n",
       "      <td>128.769231</td>\n",
       "      <td>-8.769231</td>\n",
       "    </tr>\n",
       "    <tr>\n",
       "      <th>7</th>\n",
       "      <td>8</td>\n",
       "      <td>160</td>\n",
       "      <td>146.307692</td>\n",
       "      <td>13.692308</td>\n",
       "    </tr>\n",
       "    <tr>\n",
       "      <th>8</th>\n",
       "      <td>9</td>\n",
       "      <td>153</td>\n",
       "      <td>163.846154</td>\n",
       "      <td>-10.846154</td>\n",
       "    </tr>\n",
       "    <tr>\n",
       "      <th>9</th>\n",
       "      <td>10</td>\n",
       "      <td>190</td>\n",
       "      <td>181.384615</td>\n",
       "      <td>8.615385</td>\n",
       "    </tr>\n",
       "    <tr>\n",
       "      <th>10</th>\n",
       "      <td>11</td>\n",
       "      <td>239</td>\n",
       "      <td>198.923077</td>\n",
       "      <td>40.076923</td>\n",
       "    </tr>\n",
       "    <tr>\n",
       "      <th>11</th>\n",
       "      <td>12</td>\n",
       "      <td>175</td>\n",
       "      <td>216.461538</td>\n",
       "      <td>-41.461538</td>\n",
       "    </tr>\n",
       "  </tbody>\n",
       "</table>\n",
       "</div>"
      ],
      "text/plain": [
       "    mes  faturamento   predições   residuos\n",
       "0     1           25   23.538462   1.461538\n",
       "1     2           38   41.076923  -3.076923\n",
       "2     3           29   58.615385 -29.615385\n",
       "3     4          115   76.153846  38.846154\n",
       "4     5           82   93.692308 -11.692308\n",
       "5     6          114  111.230769   2.769231\n",
       "6     7          120  128.769231  -8.769231\n",
       "7     8          160  146.307692  13.692308\n",
       "8     9          153  163.846154 -10.846154\n",
       "9    10          190  181.384615   8.615385\n",
       "10   11          239  198.923077  40.076923\n",
       "11   12          175  216.461538 -41.461538"
      ]
     },
     "execution_count": 49,
     "metadata": {},
     "output_type": "execute_result"
    }
   ],
   "source": [
    "data"
   ]
  },
  {
   "cell_type": "code",
   "execution_count": 52,
   "metadata": {
    "ExecuteTime": {
     "end_time": "2022-03-17T18:27:36.727411Z",
     "start_time": "2022-03-17T18:27:36.707120Z"
    }
   },
   "outputs": [
    {
     "data": {
      "text/plain": [
       "6323.538461538462"
      ]
     },
     "execution_count": 52,
     "metadata": {},
     "output_type": "execute_result"
    }
   ],
   "source": [
    "SQres = (data['residuos']**2).sum()\n",
    "SQres"
   ]
  },
  {
   "cell_type": "markdown",
   "metadata": {},
   "source": [
    "### Calcular Soma Quadrática Total (SQtot)"
   ]
  },
  {
   "cell_type": "code",
   "execution_count": 53,
   "metadata": {
    "ExecuteTime": {
     "end_time": "2022-03-17T19:12:11.502402Z",
     "start_time": "2022-03-17T19:12:11.478394Z"
    }
   },
   "outputs": [
    {
     "data": {
      "text/plain": [
       "120.0"
      ]
     },
     "execution_count": 53,
     "metadata": {},
     "output_type": "execute_result"
    }
   ],
   "source": [
    "media = data['faturamento'].mean()\n",
    "media"
   ]
  },
  {
   "cell_type": "code",
   "execution_count": 54,
   "metadata": {
    "ExecuteTime": {
     "end_time": "2022-03-17T19:12:22.475738Z",
     "start_time": "2022-03-17T19:12:22.466744Z"
    }
   },
   "outputs": [],
   "source": [
    "data['faturamento medio'] = media"
   ]
  },
  {
   "cell_type": "code",
   "execution_count": 56,
   "metadata": {
    "ExecuteTime": {
     "end_time": "2022-03-17T19:14:36.827867Z",
     "start_time": "2022-03-17T19:14:36.812879Z"
    }
   },
   "outputs": [
    {
     "data": {
      "text/plain": [
       "50310.0"
      ]
     },
     "execution_count": 56,
     "metadata": {},
     "output_type": "execute_result"
    }
   ],
   "source": [
    "SQtot = ((data['faturamento'] - data['faturamento medio'])**2).sum()\n",
    "SQtot"
   ]
  },
  {
   "cell_type": "code",
   "execution_count": 57,
   "metadata": {
    "ExecuteTime": {
     "end_time": "2022-03-17T19:28:36.718699Z",
     "start_time": "2022-03-17T19:28:36.230953Z"
    }
   },
   "outputs": [
    {
     "data": {
      "text/plain": [
       "[<matplotlib.lines.Line2D at 0x2116ab22b50>]"
      ]
     },
     "execution_count": 57,
     "metadata": {},
     "output_type": "execute_result"
    },
    {
     "data": {
      "image/png": "[encoded data removed]",
      "text/plain": [
       "<Figure size 432x288 with 1 Axes>"
      ]
     },
     "metadata": {
      "needs_background": "light"
     },
     "output_type": "display_data"
    }
   ],
   "source": [
    "plt.scatter(x,y)\n",
    "plt.plot(x,data['faturamento medio'],color='red')"
   ]
  },
  {
   "cell_type": "markdown",
   "metadata": {},
   "source": [
    "### Calcular R-quadrado"
   ]
  },
  {
   "cell_type": "code",
   "execution_count": 59,
   "metadata": {
    "ExecuteTime": {
     "end_time": "2022-03-17T20:02:59.505658Z",
     "start_time": "2022-03-17T20:02:59.485667Z"
    }
   },
   "outputs": [],
   "source": [
    "r_quadrado = 1-SQres/SQtot"
   ]
  },
  {
   "cell_type": "code",
   "execution_count": 61,
   "metadata": {
    "ExecuteTime": {
     "end_time": "2022-03-17T20:03:28.377976Z",
     "start_time": "2022-03-17T20:03:28.355976Z"
    }
   },
   "outputs": [
    {
     "data": {
      "text/plain": [
       "0.8743"
      ]
     },
     "execution_count": 61,
     "metadata": {},
     "output_type": "execute_result"
    }
   ],
   "source": [
    "r_quadrado.round(4)"
   ]
  },
  {
   "cell_type": "markdown",
   "metadata": {},
   "source": [
    "# RMSE\n",
    "Raiz do Erro Quadrático Médio\n",
    "\n",
    "$ e = y_i - \\hat{y_i} $ <br>\n",
    "\n",
    "$ RMSE = \\sqrt {\\sum \\frac {e^2}{n}}$<br>\n",
    "\n"
   ]
  },
  {
   "cell_type": "code",
   "execution_count": 62,
   "metadata": {
    "ExecuteTime": {
     "end_time": "2022-03-17T20:30:37.939406Z",
     "start_time": "2022-03-17T20:30:37.921413Z"
    }
   },
   "outputs": [
    {
     "data": {
      "text/plain": [
       "6323.538461538462"
      ]
     },
     "execution_count": 62,
     "metadata": {},
     "output_type": "execute_result"
    }
   ],
   "source": [
    "(data['residuos']**2).sum()"
   ]
  },
  {
   "cell_type": "code",
   "execution_count": 63,
   "metadata": {
    "ExecuteTime": {
     "end_time": "2022-03-17T20:30:50.592697Z",
     "start_time": "2022-03-17T20:30:50.574686Z"
    }
   },
   "outputs": [
    {
     "data": {
      "text/plain": [
       "6323.538461538462"
      ]
     },
     "execution_count": 63,
     "metadata": {},
     "output_type": "execute_result"
    }
   ],
   "source": [
    "SQres"
   ]
  },
  {
   "cell_type": "markdown",
   "metadata": {},
   "source": [
    "### Importar numpy"
   ]
  },
  {
   "cell_type": "code",
   "execution_count": 67,
   "metadata": {
    "ExecuteTime": {
     "end_time": "2022-03-17T20:46:43.771916Z",
     "start_time": "2022-03-17T20:46:43.764924Z"
    }
   },
   "outputs": [],
   "source": [
    "import numpy as np"
   ]
  },
  {
   "cell_type": "code",
   "execution_count": 68,
   "metadata": {
    "ExecuteTime": {
     "end_time": "2022-03-17T20:46:44.770342Z",
     "start_time": "2022-03-17T20:46:44.764346Z"
    }
   },
   "outputs": [],
   "source": [
    "rmse = np.sqrt(SQres/len(data))"
   ]
  },
  {
   "cell_type": "code",
   "execution_count": 69,
   "metadata": {
    "ExecuteTime": {
     "end_time": "2022-03-17T20:46:45.794859Z",
     "start_time": "2022-03-17T20:46:45.779870Z"
    }
   },
   "outputs": [
    {
     "data": {
      "text/plain": [
       "22.9556"
      ]
     },
     "execution_count": 69,
     "metadata": {},
     "output_type": "execute_result"
    }
   ],
   "source": [
    "rmse.round(4)"
   ]
  },
  {
   "cell_type": "markdown",
   "metadata": {},
   "source": [
    "# Regra Empírica 68-95-99.7"
   ]
  },
  {
   "cell_type": "code",
   "execution_count": 71,
   "metadata": {
    "ExecuteTime": {
     "end_time": "2022-03-17T20:47:53.433224Z",
     "start_time": "2022-03-17T20:47:53.414233Z"
    }
   },
   "outputs": [],
   "source": [
    "um_acima = pred_manual+rmse # desvio padrão acima da média\n",
    "um_abaixo = pred_manual-rmse # desvio padrão abaixo da média"
   ]
  },
  {
   "cell_type": "code",
   "execution_count": 72,
   "metadata": {
    "ExecuteTime": {
     "end_time": "2022-03-17T20:48:54.092765Z",
     "start_time": "2022-03-17T20:48:54.082769Z"
    }
   },
   "outputs": [],
   "source": [
    "dois_acima = pred_manual+2*rmse # desvio padrão acima da média\n",
    "dois_abaixo = pred_manual-2*rmse # desvio padrão abaixo da média"
   ]
  },
  {
   "cell_type": "code",
   "execution_count": 73,
   "metadata": {
    "ExecuteTime": {
     "end_time": "2022-03-17T20:49:18.200397Z",
     "start_time": "2022-03-17T20:49:18.193402Z"
    }
   },
   "outputs": [],
   "source": [
    "tres_acima = pred_manual+3*rmse # desvio padrão acima da média\n",
    "tres_abaixo = pred_manual-3*rmse # desvio padrão abaixo da média"
   ]
  },
  {
   "cell_type": "markdown",
   "metadata": {},
   "source": [
    "# Um desvio padrão 68% "
   ]
  },
  {
   "cell_type": "code",
   "execution_count": 75,
   "metadata": {
    "ExecuteTime": {
     "end_time": "2022-03-17T20:59:06.639017Z",
     "start_time": "2022-03-17T20:59:06.336191Z"
    }
   },
   "outputs": [
    {
     "data": {
      "text/plain": [
       "[<matplotlib.lines.Line2D at 0x2116ac3e370>]"
      ]
     },
     "execution_count": 75,
     "metadata": {},
     "output_type": "execute_result"
    },
    {
     "data": {
      "image/png": "[encoded data removed]",
      "text/plain": [
       "<Figure size 432x288 with 1 Axes>"
      ]
     },
     "metadata": {
      "needs_background": "light"
     },
     "output_type": "display_data"
    }
   ],
   "source": [
    "plt.scatter(x,y)\n",
    "plt.plot(x,pred_manual,color='red')\n",
    "plt.plot(x,um_acima,color='purple')\n",
    "plt.plot(x,um_abaixo,color='purple')"
   ]
  },
  {
   "cell_type": "markdown",
   "metadata": {},
   "source": [
    "# Dois desvios padrões 95%"
   ]
  },
  {
   "cell_type": "code",
   "execution_count": 77,
   "metadata": {
    "ExecuteTime": {
     "end_time": "2022-03-17T20:59:39.337376Z",
     "start_time": "2022-03-17T20:59:39.078595Z"
    }
   },
   "outputs": [
    {
     "data": {
      "text/plain": [
       "[<matplotlib.lines.Line2D at 0x2116b418a30>]"
      ]
     },
     "execution_count": 77,
     "metadata": {},
     "output_type": "execute_result"
    },
    {
     "data": {
      "image/png": "[encoded data removed]",
      "text/plain": [
       "<Figure size 432x288 with 1 Axes>"
      ]
     },
     "metadata": {
      "needs_background": "light"
     },
     "output_type": "display_data"
    }
   ],
   "source": [
    "plt.scatter(x,y)\n",
    "plt.plot(x,pred_manual,color='red')\n",
    "plt.plot(x,um_acima,color='purple')\n",
    "plt.plot(x,um_abaixo,color='purple')\n",
    "plt.plot(x,dois_acima,color='green')\n",
    "plt.plot(x,dois_abaixo,color='green')"
   ]
  },
  {
   "cell_type": "markdown",
   "metadata": {},
   "source": [
    "# Três desvios padrões 99.7%"
   ]
  },
  {
   "cell_type": "code",
   "execution_count": 78,
   "metadata": {
    "ExecuteTime": {
     "end_time": "2022-03-17T21:00:06.229620Z",
     "start_time": "2022-03-17T21:00:05.946844Z"
    }
   },
   "outputs": [
    {
     "data": {
      "text/plain": [
       "[<matplotlib.lines.Line2D at 0x2116b46a1f0>]"
      ]
     },
     "execution_count": 78,
     "metadata": {},
     "output_type": "execute_result"
    },
    {
     "data": {
      "image/png": "[encoded data removed]",
      "text/plain": [
       "<Figure size 432x288 with 1 Axes>"
      ]
     },
     "metadata": {
      "needs_background": "light"
     },
     "output_type": "display_data"
    }
   ],
   "source": [
    "plt.scatter(x,y)\n",
    "plt.plot(x,pred_manual,color='red')\n",
    "plt.plot(x,um_acima,color='purple')\n",
    "plt.plot(x,um_abaixo,color='purple')\n",
    "plt.plot(x,dois_acima,color='green')\n",
    "plt.plot(x,dois_abaixo,color='green')\n",
    "plt.plot(x,tres_acima,color='blue')\n",
    "plt.plot(x,tres_abaixo,color='blue')"
   ]
  },
  {
   "cell_type": "markdown",
   "metadata": {},
   "source": [
    "# Regressão Linear - Statsmodels"
   ]
  },
  {
   "cell_type": "markdown",
   "metadata": {},
   "source": [
    "### Importar Statsmodels "
   ]
  },
  {
   "cell_type": "code",
   "execution_count": 84,
   "metadata": {
    "ExecuteTime": {
     "end_time": "2022-03-17T23:46:06.703497Z",
     "start_time": "2022-03-17T23:45:58.488264Z"
    }
   },
   "outputs": [],
   "source": [
    "import statsmodels.api as sm"
   ]
  },
  {
   "cell_type": "markdown",
   "metadata": {},
   "source": [
    "### Definir x e y"
   ]
  },
  {
   "cell_type": "code",
   "execution_count": 85,
   "metadata": {
    "ExecuteTime": {
     "end_time": "2022-03-17T23:46:07.968946Z",
     "start_time": "2022-03-17T23:46:07.957950Z"
    }
   },
   "outputs": [],
   "source": [
    "x = data['mes']\n",
    "y = data['faturamento']"
   ]
  },
  {
   "cell_type": "markdown",
   "metadata": {},
   "source": [
    "### Adicionar constante"
   ]
  },
  {
   "cell_type": "code",
   "execution_count": 86,
   "metadata": {
    "ExecuteTime": {
     "end_time": "2022-03-17T23:46:11.972225Z",
     "start_time": "2022-03-17T23:46:11.954255Z"
    }
   },
   "outputs": [],
   "source": [
    "x = sm.add_constant(x.values)"
   ]
  },
  {
   "cell_type": "code",
   "execution_count": 87,
   "metadata": {
    "ExecuteTime": {
     "end_time": "2022-03-17T23:46:28.809930Z",
     "start_time": "2022-03-17T23:46:28.791924Z"
    }
   },
   "outputs": [
    {
     "data": {
      "text/plain": [
       "array([[ 1.,  1.],\n",
       "       [ 1.,  2.],\n",
       "       [ 1.,  3.],\n",
       "       [ 1.,  4.],\n",
       "       [ 1.,  5.],\n",
       "       [ 1.,  6.],\n",
       "       [ 1.,  7.],\n",
       "       [ 1.,  8.],\n",
       "       [ 1.,  9.],\n",
       "       [ 1., 10.],\n",
       "       [ 1., 11.],\n",
       "       [ 1., 12.]])"
      ]
     },
     "execution_count": 87,
     "metadata": {},
     "output_type": "execute_result"
    }
   ],
   "source": [
    "x"
   ]
  },
  {
   "cell_type": "markdown",
   "metadata": {},
   "source": [
    "### Treinar Modelo"
   ]
  },
  {
   "cell_type": "code",
   "execution_count": 88,
   "metadata": {
    "ExecuteTime": {
     "end_time": "2022-03-17T23:49:13.431630Z",
     "start_time": "2022-03-17T23:49:13.353678Z"
    }
   },
   "outputs": [],
   "source": [
    "modelo = sm.OLS(y,x).fit()"
   ]
  },
  {
   "cell_type": "markdown",
   "metadata": {},
   "source": [
    "### Gerar predição"
   ]
  },
  {
   "cell_type": "code",
   "execution_count": 90,
   "metadata": {
    "ExecuteTime": {
     "end_time": "2022-03-17T23:49:25.869308Z",
     "start_time": "2022-03-17T23:49:25.862314Z"
    }
   },
   "outputs": [],
   "source": [
    "sm_pred = modelo.predict()"
   ]
  },
  {
   "cell_type": "code",
   "execution_count": 91,
   "metadata": {
    "ExecuteTime": {
     "end_time": "2022-03-17T23:49:30.028895Z",
     "start_time": "2022-03-17T23:49:30.018901Z"
    }
   },
   "outputs": [
    {
     "data": {
      "text/plain": [
       "array([ 23.53846154,  41.07692308,  58.61538462,  76.15384615,\n",
       "        93.69230769, 111.23076923, 128.76923077, 146.30769231,\n",
       "       163.84615385, 181.38461538, 198.92307692, 216.46153846])"
      ]
     },
     "execution_count": 91,
     "metadata": {},
     "output_type": "execute_result"
    }
   ],
   "source": [
    "sm_pred"
   ]
  },
  {
   "cell_type": "markdown",
   "metadata": {},
   "source": [
    "### Verificar parâmetros de performance do Modelo Preditivo"
   ]
  },
  {
   "cell_type": "code",
   "execution_count": 92,
   "metadata": {
    "ExecuteTime": {
     "end_time": "2022-03-17T23:52:32.116466Z",
     "start_time": "2022-03-17T23:52:32.035486Z"
    }
   },
   "outputs": [
    {
     "name": "stderr",
     "output_type": "stream",
     "text": [
      "C:\\ProgramData\\Anaconda3\\lib\\site-packages\\scipy\\stats\\stats.py:1603: UserWarning: kurtosistest only valid for n>=20 ... continuing anyway, n=12\n",
      "  warnings.warn(\"kurtosistest only valid for n>=20 ... continuing \"\n"
     ]
    },
    {
     "data": {
      "text/html": [
       "<table class=\"simpletable\">\n",
       "<caption>OLS Regression Results</caption>\n",
       "<tr>\n",
       "  <th>Dep. Variable:</th>       <td>faturamento</td>   <th>  R-squared:         </th> <td>   0.874</td>\n",
       "</tr>\n",
       "<tr>\n",
       "  <th>Model:</th>                   <td>OLS</td>       <th>  Adj. R-squared:    </th> <td>   0.862</td>\n",
       "</tr>\n",
       "<tr>\n",
       "  <th>Method:</th>             <td>Least Squares</td>  <th>  F-statistic:       </th> <td>   69.56</td>\n",
       "</tr>\n",
       "<tr>\n",
       "  <th>Date:</th>             <td>Thu, 17 Mar 2022</td> <th>  Prob (F-statistic):</th> <td>8.16e-06</td>\n",
       "</tr>\n",
       "<tr>\n",
       "  <th>Time:</th>                 <td>20:52:32</td>     <th>  Log-Likelihood:    </th> <td> -54.630</td>\n",
       "</tr>\n",
       "<tr>\n",
       "  <th>No. Observations:</th>      <td>    12</td>      <th>  AIC:               </th> <td>   113.3</td>\n",
       "</tr>\n",
       "<tr>\n",
       "  <th>Df Residuals:</th>          <td>    10</td>      <th>  BIC:               </th> <td>   114.2</td>\n",
       "</tr>\n",
       "<tr>\n",
       "  <th>Df Model:</th>              <td>     1</td>      <th>                     </th>     <td> </td>   \n",
       "</tr>\n",
       "<tr>\n",
       "  <th>Covariance Type:</th>      <td>nonrobust</td>    <th>                     </th>     <td> </td>   \n",
       "</tr>\n",
       "</table>\n",
       "<table class=\"simpletable\">\n",
       "<tr>\n",
       "    <td></td>       <th>coef</th>     <th>std err</th>      <th>t</th>      <th>P>|t|</th>  <th>[0.025</th>    <th>0.975]</th>  \n",
       "</tr>\n",
       "<tr>\n",
       "  <th>const</th> <td>    6.0000</td> <td>   15.477</td> <td>    0.388</td> <td> 0.706</td> <td>  -28.484</td> <td>   40.484</td>\n",
       "</tr>\n",
       "<tr>\n",
       "  <th>x1</th>    <td>   17.5385</td> <td>    2.103</td> <td>    8.340</td> <td> 0.000</td> <td>   12.853</td> <td>   22.224</td>\n",
       "</tr>\n",
       "</table>\n",
       "<table class=\"simpletable\">\n",
       "<tr>\n",
       "  <th>Omnibus:</th>       <td> 0.197</td> <th>  Durbin-Watson:     </th> <td>   2.757</td>\n",
       "</tr>\n",
       "<tr>\n",
       "  <th>Prob(Omnibus):</th> <td> 0.906</td> <th>  Jarque-Bera (JB):  </th> <td>   0.142</td>\n",
       "</tr>\n",
       "<tr>\n",
       "  <th>Skew:</th>          <td> 0.175</td> <th>  Prob(JB):          </th> <td>   0.932</td>\n",
       "</tr>\n",
       "<tr>\n",
       "  <th>Kurtosis:</th>      <td> 2.599</td> <th>  Cond. No.          </th> <td>    15.9</td>\n",
       "</tr>\n",
       "</table><br/><br/>Notes:<br/>[1] Standard Errors assume that the covariance matrix of the errors is correctly specified."
      ],
      "text/plain": [
       "<class 'statsmodels.iolib.summary.Summary'>\n",
       "\"\"\"\n",
       "                            OLS Regression Results                            \n",
       "==============================================================================\n",
       "Dep. Variable:            faturamento   R-squared:                       0.874\n",
       "Model:                            OLS   Adj. R-squared:                  0.862\n",
       "Method:                 Least Squares   F-statistic:                     69.56\n",
       "Date:                Thu, 17 Mar 2022   Prob (F-statistic):           8.16e-06\n",
       "Time:                        20:52:32   Log-Likelihood:                -54.630\n",
       "No. Observations:                  12   AIC:                             113.3\n",
       "Df Residuals:                      10   BIC:                             114.2\n",
       "Df Model:                           1                                         \n",
       "Covariance Type:            nonrobust                                         \n",
       "==============================================================================\n",
       "                 coef    std err          t      P>|t|      [0.025      0.975]\n",
       "------------------------------------------------------------------------------\n",
       "const          6.0000     15.477      0.388      0.706     -28.484      40.484\n",
       "x1            17.5385      2.103      8.340      0.000      12.853      22.224\n",
       "==============================================================================\n",
       "Omnibus:                        0.197   Durbin-Watson:                   2.757\n",
       "Prob(Omnibus):                  0.906   Jarque-Bera (JB):                0.142\n",
       "Skew:                           0.175   Prob(JB):                        0.932\n",
       "Kurtosis:                       2.599   Cond. No.                         15.9\n",
       "==============================================================================\n",
       "\n",
       "Notes:\n",
       "[1] Standard Errors assume that the covariance matrix of the errors is correctly specified.\n",
       "\"\"\""
      ]
     },
     "execution_count": 92,
     "metadata": {},
     "output_type": "execute_result"
    }
   ],
   "source": [
    "modelo.summary()"
   ]
  },
  {
   "cell_type": "markdown",
   "metadata": {},
   "source": [
    "### RMSE"
   ]
  },
  {
   "cell_type": "code",
   "execution_count": 93,
   "metadata": {
    "ExecuteTime": {
     "end_time": "2022-03-17T23:54:17.924733Z",
     "start_time": "2022-03-17T23:54:17.908744Z"
    }
   },
   "outputs": [],
   "source": [
    "from statsmodels.tools.eval_measures import rmse"
   ]
  },
  {
   "cell_type": "code",
   "execution_count": 96,
   "metadata": {
    "ExecuteTime": {
     "end_time": "2022-03-17T23:55:19.911723Z",
     "start_time": "2022-03-17T23:55:19.885740Z"
    }
   },
   "outputs": [
    {
     "data": {
      "text/plain": [
       "22.9556"
      ]
     },
     "execution_count": 96,
     "metadata": {},
     "output_type": "execute_result"
    }
   ],
   "source": [
    "rmse(y,sm_pred).round(4)"
   ]
  },
  {
   "cell_type": "markdown",
   "metadata": {},
   "source": [
    "# Regressão Linear - Sklearn"
   ]
  },
  {
   "cell_type": "markdown",
   "metadata": {},
   "source": [
    "### Importar sklearn"
   ]
  },
  {
   "cell_type": "code",
   "execution_count": 97,
   "metadata": {
    "ExecuteTime": {
     "end_time": "2022-03-18T00:51:36.904249Z",
     "start_time": "2022-03-18T00:51:32.620572Z"
    }
   },
   "outputs": [],
   "source": [
    "from sklearn import linear_model"
   ]
  },
  {
   "cell_type": "markdown",
   "metadata": {},
   "source": [
    "### Instanciar Modelo de Regressão Linear"
   ]
  },
  {
   "cell_type": "code",
   "execution_count": 98,
   "metadata": {
    "ExecuteTime": {
     "end_time": "2022-03-18T00:51:50.361400Z",
     "start_time": "2022-03-18T00:51:50.352405Z"
    }
   },
   "outputs": [],
   "source": [
    "lm = linear_model.LinearRegression()"
   ]
  },
  {
   "cell_type": "markdown",
   "metadata": {},
   "source": [
    "### Reshape x (remodelar x)\n",
    "Se X não possuir múltiplas variáveis, sklearn solicita que modifiquemos o formato"
   ]
  },
  {
   "cell_type": "code",
   "execution_count": 99,
   "metadata": {
    "ExecuteTime": {
     "end_time": "2022-03-18T00:52:07.694101Z",
     "start_time": "2022-03-18T00:52:07.675116Z"
    }
   },
   "outputs": [],
   "source": [
    "x = data['mes']\n",
    "y = data['faturamento']"
   ]
  },
  {
   "cell_type": "code",
   "execution_count": 101,
   "metadata": {
    "ExecuteTime": {
     "end_time": "2022-03-18T00:54:47.221402Z",
     "start_time": "2022-03-18T00:54:47.209408Z"
    }
   },
   "outputs": [],
   "source": [
    "x = np.array(x).reshape(-1,1)"
   ]
  },
  {
   "cell_type": "markdown",
   "metadata": {},
   "source": [
    "### Treinar Modelo"
   ]
  },
  {
   "cell_type": "code",
   "execution_count": 102,
   "metadata": {
    "ExecuteTime": {
     "end_time": "2022-03-18T00:54:50.011801Z",
     "start_time": "2022-03-18T00:54:49.943819Z"
    }
   },
   "outputs": [],
   "source": [
    "sk_modelo = lm.fit(x,y)"
   ]
  },
  {
   "cell_type": "markdown",
   "metadata": {},
   "source": [
    "### Gerar predições"
   ]
  },
  {
   "cell_type": "code",
   "execution_count": 103,
   "metadata": {
    "ExecuteTime": {
     "end_time": "2022-03-18T00:55:01.216480Z",
     "start_time": "2022-03-18T00:55:01.208487Z"
    }
   },
   "outputs": [],
   "source": [
    "skpred = sk_modelo.predict(x)"
   ]
  },
  {
   "cell_type": "code",
   "execution_count": 105,
   "metadata": {
    "ExecuteTime": {
     "end_time": "2022-03-18T00:57:00.835574Z",
     "start_time": "2022-03-18T00:57:00.825583Z"
    }
   },
   "outputs": [],
   "source": [
    "xpred = np.array([15]).reshape(-1,1) # exemplo"
   ]
  },
  {
   "cell_type": "code",
   "execution_count": 106,
   "metadata": {
    "ExecuteTime": {
     "end_time": "2022-03-18T00:57:10.037160Z",
     "start_time": "2022-03-18T00:57:10.022188Z"
    }
   },
   "outputs": [
    {
     "data": {
      "text/plain": [
       "array([269.07692308])"
      ]
     },
     "execution_count": 106,
     "metadata": {},
     "output_type": "execute_result"
    }
   ],
   "source": [
    "sk_modelo.predict(xpred)"
   ]
  },
  {
   "cell_type": "code",
   "execution_count": 107,
   "metadata": {
    "ExecuteTime": {
     "end_time": "2022-03-18T00:57:16.582373Z",
     "start_time": "2022-03-18T00:57:16.562385Z"
    }
   },
   "outputs": [
    {
     "data": {
      "text/plain": [
       "array([ 23.53846154,  41.07692308,  58.61538462,  76.15384615,\n",
       "        93.69230769, 111.23076923, 128.76923077, 146.30769231,\n",
       "       163.84615385, 181.38461538, 198.92307692, 216.46153846])"
      ]
     },
     "execution_count": 107,
     "metadata": {},
     "output_type": "execute_result"
    }
   ],
   "source": [
    "skpred"
   ]
  },
  {
   "cell_type": "markdown",
   "metadata": {},
   "source": [
    "### $R^2$"
   ]
  },
  {
   "cell_type": "code",
   "execution_count": 108,
   "metadata": {
    "ExecuteTime": {
     "end_time": "2022-03-18T00:58:36.024811Z",
     "start_time": "2022-03-18T00:58:35.996680Z"
    }
   },
   "outputs": [
    {
     "data": {
      "text/plain": [
       "0.8743085179578918"
      ]
     },
     "execution_count": 108,
     "metadata": {},
     "output_type": "execute_result"
    }
   ],
   "source": [
    "lm.score(x,y)"
   ]
  },
  {
   "cell_type": "markdown",
   "metadata": {},
   "source": [
    "### m"
   ]
  },
  {
   "cell_type": "code",
   "execution_count": 109,
   "metadata": {
    "ExecuteTime": {
     "end_time": "2022-03-18T00:58:42.682981Z",
     "start_time": "2022-03-18T00:58:42.668967Z"
    }
   },
   "outputs": [
    {
     "data": {
      "text/plain": [
       "array([17.53846154])"
      ]
     },
     "execution_count": 109,
     "metadata": {},
     "output_type": "execute_result"
    }
   ],
   "source": [
    "lm.coef_"
   ]
  },
  {
   "cell_type": "markdown",
   "metadata": {},
   "source": [
    "### b"
   ]
  },
  {
   "cell_type": "code",
   "execution_count": 110,
   "metadata": {
    "ExecuteTime": {
     "end_time": "2022-03-18T01:00:08.677723Z",
     "start_time": "2022-03-18T01:00:08.657735Z"
    }
   },
   "outputs": [
    {
     "data": {
      "text/plain": [
       "6.000000000000014"
      ]
     },
     "execution_count": 110,
     "metadata": {},
     "output_type": "execute_result"
    }
   ],
   "source": [
    "lm.intercept_"
   ]
  },
  {
   "cell_type": "markdown",
   "metadata": {},
   "source": [
    "### RMSE"
   ]
  },
  {
   "cell_type": "code",
   "execution_count": 112,
   "metadata": {
    "ExecuteTime": {
     "end_time": "2022-03-18T01:01:53.963699Z",
     "start_time": "2022-03-18T01:01:53.955708Z"
    }
   },
   "outputs": [],
   "source": [
    "from sklearn.metrics import mean_squared_error"
   ]
  },
  {
   "cell_type": "code",
   "execution_count": 113,
   "metadata": {
    "ExecuteTime": {
     "end_time": "2022-03-18T01:02:08.053645Z",
     "start_time": "2022-03-18T01:02:08.038652Z"
    }
   },
   "outputs": [],
   "source": [
    "mse = mean_squared_error(y,skpred)"
   ]
  },
  {
   "cell_type": "code",
   "execution_count": 114,
   "metadata": {
    "ExecuteTime": {
     "end_time": "2022-03-18T01:02:11.461256Z",
     "start_time": "2022-03-18T01:02:11.440272Z"
    }
   },
   "outputs": [
    {
     "data": {
      "text/plain": [
       "526.9615384615386"
      ]
     },
     "execution_count": 114,
     "metadata": {},
     "output_type": "execute_result"
    }
   ],
   "source": [
    "mse"
   ]
  },
  {
   "cell_type": "code",
   "execution_count": 115,
   "metadata": {
    "ExecuteTime": {
     "end_time": "2022-03-18T01:02:25.706487Z",
     "start_time": "2022-03-18T01:02:25.698491Z"
    }
   },
   "outputs": [
    {
     "data": {
      "text/plain": [
       "22.95564284574794"
      ]
     },
     "execution_count": 115,
     "metadata": {},
     "output_type": "execute_result"
    }
   ],
   "source": [
    "np.sqrt(mse)"
   ]
  },
  {
   "cell_type": "markdown",
   "metadata": {},
   "source": [
    "# Todas Predições"
   ]
  },
  {
   "cell_type": "markdown",
   "metadata": {},
   "source": [
    "### Calculado Manualmente"
   ]
  },
  {
   "cell_type": "code",
   "execution_count": 116,
   "metadata": {
    "ExecuteTime": {
     "end_time": "2022-03-18T01:03:49.507011Z",
     "start_time": "2022-03-18T01:03:49.485023Z"
    }
   },
   "outputs": [
    {
     "data": {
      "text/plain": [
       "array([ 23.53846154,  41.07692308,  58.61538462,  76.15384615,\n",
       "        93.69230769, 111.23076923, 128.76923077, 146.30769231,\n",
       "       163.84615385, 181.38461538, 198.92307692, 216.46153846])"
      ]
     },
     "execution_count": 116,
     "metadata": {},
     "output_type": "execute_result"
    }
   ],
   "source": [
    "np.array(pred_manual)"
   ]
  },
  {
   "cell_type": "markdown",
   "metadata": {},
   "source": [
    "### Calculado via Statsmodel"
   ]
  },
  {
   "cell_type": "code",
   "execution_count": 117,
   "metadata": {
    "ExecuteTime": {
     "end_time": "2022-03-18T01:03:55.078569Z",
     "start_time": "2022-03-18T01:03:55.056582Z"
    }
   },
   "outputs": [
    {
     "data": {
      "text/plain": [
       "array([ 23.53846154,  41.07692308,  58.61538462,  76.15384615,\n",
       "        93.69230769, 111.23076923, 128.76923077, 146.30769231,\n",
       "       163.84615385, 181.38461538, 198.92307692, 216.46153846])"
      ]
     },
     "execution_count": 117,
     "metadata": {},
     "output_type": "execute_result"
    }
   ],
   "source": [
    "sm_pred"
   ]
  },
  {
   "cell_type": "markdown",
   "metadata": {},
   "source": [
    "### Calculado via Sklearn"
   ]
  },
  {
   "cell_type": "code",
   "execution_count": 118,
   "metadata": {
    "ExecuteTime": {
     "end_time": "2022-03-18T01:03:58.764751Z",
     "start_time": "2022-03-18T01:03:58.743745Z"
    }
   },
   "outputs": [
    {
     "data": {
      "text/plain": [
       "array([ 23.53846154,  41.07692308,  58.61538462,  76.15384615,\n",
       "        93.69230769, 111.23076923, 128.76923077, 146.30769231,\n",
       "       163.84615385, 181.38461538, 198.92307692, 216.46153846])"
      ]
     },
     "execution_count": 118,
     "metadata": {},
     "output_type": "execute_result"
    }
   ],
   "source": [
    "skpred"
   ]
  },
  {
   "cell_type": "code",
   "execution_count": null,
   "metadata": {},
   "outputs": [],
   "source": []
  }
 ],
 "metadata": {
  "kernelspec": {
   "display_name": "Python 3",
   "language": "python",
   "name": "python3"
  },
  "language_info": {
   "codemirror_mode": {
    "name": "ipython",
    "version": 3
   },
   "file_extension": ".py",
   "mimetype": "text/x-python",
   "name": "python",
   "nbconvert_exporter": "python",
   "pygments_lexer": "ipython3",
   "version": "3.8.8"
  }
 },
 "nbformat": 4,
 "nbformat_minor": 2
}
